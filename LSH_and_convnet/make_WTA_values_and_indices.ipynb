{
 "cells": [
  {
   "cell_type": "code",
   "execution_count": 1,
   "metadata": {},
   "outputs": [
    {
     "name": "stderr",
     "output_type": "stream",
     "text": [
      "/home/jonas/anaconda3/envs/TF19/lib/python3.6/site-packages/h5py/__init__.py:36: FutureWarning: Conversion of the second argument of issubdtype from `float` to `np.floating` is deprecated. In future, it will be treated as `np.float64 == np.dtype(float).type`.\n",
      "  from ._conv import register_converters as _register_converters\n"
     ]
    },
    {
     "name": "stdout",
     "output_type": "stream",
     "text": [
      "1.9.0\n"
     ]
    }
   ],
   "source": [
    "import numpy as np\n",
    "import tensorflow as tf\n",
    "import make_datasets as make_ds\n",
    "import os\n",
    "\n",
    "print(tf.__version__)"
   ]
  },
  {
   "cell_type": "code",
   "execution_count": 2,
   "metadata": {},
   "outputs": [],
   "source": [
    "num_channels = 3\n",
    "window_size = 40 # needs to be adjusted for fourier or raw signal"
   ]
  },
  {
   "cell_type": "code",
   "execution_count": 3,
   "metadata": {},
   "outputs": [],
   "source": [
    "# # for sliding window samples:\n",
    "# num_vUnits = num_channels*window_size\n",
    "# num_KCs = 16*num_vUnits\n",
    "# num_ones = num_KCs*6 #total number of ones in matrix\n",
    "# p_one = num_ones/(num_vUnits*num_KCs)\n",
    "# p_WTA = 0.05\n",
    "\n",
    "# np.random.seed(102)\n",
    "# rand_binary_matrix = np.random.choice([0, 1], size=(num_vUnits,num_KCs), p=[1-p_one,p_one])\n",
    "\n",
    "# batch_size = 800"
   ]
  },
  {
   "cell_type": "code",
   "execution_count": 4,
   "metadata": {},
   "outputs": [],
   "source": [
    "# for fourier samples: \n",
    "num_vUnits = int(num_channels*window_size)\n",
    "num_KCs = 15*num_vUnits\n",
    "num_ones = num_KCs*6 #total number of ones in matrix\n",
    "p_one = num_ones/(num_vUnits*num_KCs)\n",
    "p_WTA = 0.05\n",
    "\n",
    "np.random.seed(112)\n",
    "rand_binary_matrix = np.random.choice([0, 1], size=(num_vUnits,num_KCs), p=[1-p_one,p_one])\n",
    "\n",
    "batch_size = 256"
   ]
  },
  {
   "cell_type": "code",
   "execution_count": 5,
   "metadata": {},
   "outputs": [
    {
     "name": "stdout",
     "output_type": "stream",
     "text": [
      "Num files:  37\n"
     ]
    }
   ],
   "source": [
    "load_path = '/home/jonas/HDD/data/unwindowed/no_emphasis_Fourier_shuffled/'\n",
    "files = [f for f in os.listdir(load_path)]\n",
    "print('Num files: ',len(files))\n",
    "\n",
    "# res_files = []\n",
    "# load_path = '/home/jonas/data/prepared_data/Fourier_data_ws256_shuffled/'\n",
    "# for path,dirs,files in os.walk(load_path):\n",
    "#     for file in files:\n",
    "#         if 'Kontrolle4' in file or 'Kontrolle5' in file or 'Kontrolle6' in file:\n",
    "#             res_files.append(file)\n",
    "# print(len(res_files))\n",
    "# files = res_files"
   ]
  },
  {
   "cell_type": "code",
   "execution_count": 6,
   "metadata": {},
   "outputs": [
    {
     "name": "stdout",
     "output_type": "stream",
     "text": [
      "shape WTA values:  (35310, 90)\n",
      "shape WTA indices:  (35310, 90)\n",
      "shape WTA values:  (24960, 90)\n",
      "shape WTA indices:  (24960, 90)\n",
      "shape WTA values:  (28680, 90)\n",
      "shape WTA indices:  (28680, 90)\n",
      "shape WTA values:  (31710, 90)\n",
      "shape WTA indices:  (31710, 90)\n",
      "shape WTA values:  (34140, 90)\n",
      "shape WTA indices:  (34140, 90)\n",
      "shape WTA values:  (35490, 90)\n",
      "shape WTA indices:  (35490, 90)\n",
      "shape WTA values:  (33000, 90)\n",
      "shape WTA indices:  (33000, 90)\n",
      "shape WTA values:  (31260, 90)\n",
      "shape WTA indices:  (31260, 90)\n",
      "shape WTA values:  (34890, 90)\n",
      "shape WTA indices:  (34890, 90)\n",
      "shape WTA values:  (24270, 90)\n",
      "shape WTA indices:  (24270, 90)\n",
      "shape WTA values:  (29820, 90)\n",
      "shape WTA indices:  (29820, 90)\n",
      "shape WTA values:  (31980, 90)\n",
      "shape WTA indices:  (31980, 90)\n",
      "shape WTA values:  (33240, 90)\n",
      "shape WTA indices:  (33240, 90)\n",
      "shape WTA values:  (27210, 90)\n",
      "shape WTA indices:  (27210, 90)\n",
      "shape WTA values:  (34290, 90)\n",
      "shape WTA indices:  (34290, 90)\n",
      "shape WTA values:  (28140, 90)\n",
      "shape WTA indices:  (28140, 90)\n",
      "shape WTA values:  (31290, 90)\n",
      "shape WTA indices:  (31290, 90)\n",
      "shape WTA values:  (30510, 90)\n",
      "shape WTA indices:  (30510, 90)\n",
      "shape WTA values:  (25800, 90)\n",
      "shape WTA indices:  (25800, 90)\n",
      "shape WTA values:  (32310, 90)\n",
      "shape WTA indices:  (32310, 90)\n",
      "shape WTA values:  (29970, 90)\n",
      "shape WTA indices:  (29970, 90)\n",
      "shape WTA values:  (29820, 90)\n",
      "shape WTA indices:  (29820, 90)\n",
      "shape WTA values:  (28740, 90)\n",
      "shape WTA indices:  (28740, 90)\n",
      "shape WTA values:  (33360, 90)\n",
      "shape WTA indices:  (33360, 90)\n",
      "shape WTA values:  (30240, 90)\n",
      "shape WTA indices:  (30240, 90)\n",
      "shape WTA values:  (29610, 90)\n",
      "shape WTA indices:  (29610, 90)\n",
      "shape WTA values:  (29190, 90)\n",
      "shape WTA indices:  (29190, 90)\n",
      "shape WTA values:  (30870, 90)\n",
      "shape WTA indices:  (30870, 90)\n",
      "shape WTA values:  (32730, 90)\n",
      "shape WTA indices:  (32730, 90)\n",
      "shape WTA values:  (33690, 90)\n",
      "shape WTA indices:  (33690, 90)\n",
      "shape WTA values:  (31830, 90)\n",
      "shape WTA indices:  (31830, 90)\n",
      "shape WTA values:  (34890, 90)\n",
      "shape WTA indices:  (34890, 90)\n",
      "shape WTA values:  (31140, 90)\n",
      "shape WTA indices:  (31140, 90)\n",
      "shape WTA values:  (28020, 90)\n",
      "shape WTA indices:  (28020, 90)\n",
      "shape WTA values:  (9870, 90)\n",
      "shape WTA indices:  (9870, 90)\n",
      "shape WTA values:  (25980, 90)\n",
      "shape WTA indices:  (25980, 90)\n",
      "shape WTA values:  (26940, 90)\n",
      "shape WTA indices:  (26940, 90)\n"
     ]
    }
   ],
   "source": [
    "random_binary_matrix = tf.constant(rand_binary_matrix.astype(np.float32))\n",
    "\n",
    "file_name = tf.placeholder(tf.string, shape=[None])\n",
    "dataset = make_ds.dataset_from_TFRecords(file_name,batch_size,\n",
    "                                         ['sample','one_hot_label'],['float32','int32'],\n",
    "                                         shuffle=False,cache=False,parallel_reads=1,num_cores=32)\n",
    "iterator = dataset.make_initializable_iterator()\n",
    "batch,label = iterator.get_next()\n",
    "\n",
    "values,indices = make_ds.make_LSH_values_and_indicies(batch,random_binary_matrix,num_KCs,p_WTA)\n",
    "\n",
    "with tf.Session() as sess:\n",
    "    for file in files:\n",
    "        vals = []\n",
    "        inds = []\n",
    "        labels = []\n",
    "        sess.run(iterator.initializer,feed_dict={file_name:[load_path+file]})\n",
    "        while True:\n",
    "            try:\n",
    "                labels_,inds_,vals_ = sess.run([label,indices,values])\n",
    "                labels.append(labels_)\n",
    "                inds.append(inds_)\n",
    "                vals.append(vals_)\n",
    "            except tf.errors.OutOfRangeError:\n",
    "                break\n",
    "        labels = np.concatenate(labels,axis=0)\n",
    "        vals = np.concatenate(vals,axis=0)\n",
    "        inds = np.concatenate(inds,axis=0)\n",
    "        print('shape WTA values: ', vals.shape)\n",
    "        print('shape WTA indices: ', inds.shape)\n",
    "        \n",
    "        keys_and_raw_features = {'values': vals, 'indices': inds, 'one_hot_label': labels}\n",
    "        save_name = '/home/jonas/HDD/data/unwindowed/Fourier_no_emphasis_WTA_vals_and_inds_15xKCs_RS112_WTA005_shuffled/' + file\n",
    "        make_ds.write_to_TFRecord(save_name,keys_and_raw_features)\n",
    "tf.reset_default_graph()"
   ]
  },
  {
   "cell_type": "code",
   "execution_count": 7,
   "metadata": {},
   "outputs": [],
   "source": [
    "# # recover activations for test purposes on a real example\n",
    "# WTA_reconstructions = []\n",
    "# batch_size = 100\n",
    "# dataset = make_ds.dataset_from_TFRecords('/home/jonas/data/prepare_data/WTA_values_and_indices_ws256/Kontrolle3_small_test_file(0).tfrecords',\n",
    "#                                  batch_size,['values','indices','one_hot_label'],\n",
    "#                                  ['float32','int32','int32'],shuffle=False,cache=False,num_cores=6)\n",
    "# iterator = dataset.make_initializable_iterator()\n",
    "# values,indices,one_hot_labels = iterator.get_next()\n",
    "# WTA_rec = make_ds.WTA_activations_from_values_and_indices(values,indices,num_KCs,p_WTA)\n",
    "\n",
    "# with tf.Session() as sess:\n",
    "#     sess.run(iterator.initializer)\n",
    "#     while True:\n",
    "#         try:\n",
    "#             WTA_reconstructions.append(sess.run(WTA_rec))\n",
    "#         except tf.errors.OutOfRangeError:\n",
    "#             break\n",
    "# tf.reset_default_graph()\n",
    "# WTA_reconstructions = np.concatenate(WTA_reconstructions,axis=0)\n",
    "# print('WTA reconstructions: ',np.shape(WTA_reconstructions))\n",
    "# assert (acts == WTA_reconstructions).all()"
   ]
  }
 ],
 "metadata": {
  "kernelspec": {
   "display_name": "Python 3",
   "language": "python",
   "name": "python3"
  },
  "language_info": {
   "codemirror_mode": {
    "name": "ipython",
    "version": 3
   },
   "file_extension": ".py",
   "mimetype": "text/x-python",
   "name": "python",
   "nbconvert_exporter": "python",
   "pygments_lexer": "ipython3",
   "version": "3.6.4"
  }
 },
 "nbformat": 4,
 "nbformat_minor": 2
}
